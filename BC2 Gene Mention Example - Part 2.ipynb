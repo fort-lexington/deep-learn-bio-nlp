{
 "cells": [
  {
   "cell_type": "markdown",
   "metadata": {},
   "source": [
    "# BioCreative II Gene Mention (GM) Task - Part 2\n",
    "\n",
    "For more information: https://biocreative.bioinformatics.udel.edu/tasks/biocreative-ii/task-1a-gene-mention-tagging/\n",
    "\n",
    "\n",
    "Bio-medical journal articles have a very rich vocabulary. One side-effect for our model is that any unseen text is likely to have a high number of OOV (unknown) words, including the test set. \n",
    "\n",
    "Another issue is that the Keras embeddings are trained on words as discrete terms, not taking into account similarities in word morphology. In the case of gene names, we may be missing common suffixes or roots that are clues to word semantics.\n",
    "\n",
    "This version of the model attempts to address both issues by using [FastText](https://fasttext.cc). *fastText* embeddings are similar to word2vec, but can be trained including subword (i.e. *char-grams*) information. For domains where we may believe a word's morphology may provide clues to its semantics, this may be a benefit. In fact, many of the original participants in BCII engineered features to CRF classifiers based on word-shape and suffixes - a common approach in NLP. The other advantage is that we can produce embeddings for OOV words based on subword information!\n",
    "\n",
    "# Setup\n",
    "\n",
    "The following sections are mostly the same. One important difference is that the padded text sequences are pre-processed by a pretrained fastText model, and the (now 2-dimensional) embeddings are provided as input to the network.\n",
    "\n",
    "The embedding model was trained used the same PMC Open Access dataset used to train the GloVe embeddings shown in the first model.\n"
   ]
  },
  {
   "cell_type": "code",
   "execution_count": 1,
   "metadata": {
    "pycharm": {
     "is_executing": true
    },
    "scrolled": true
   },
   "outputs": [],
   "source": [
    "from bc2reader import BC2Reader\n",
    "import os\n",
    "\n",
    "train_home = '/home/ryan/Development/deep-learn-bio-nlp/bc2/bc2geneMention/train'\n",
    "reader = BC2Reader('{0}/train.in'.format(train_home), '{0}/GENE.eval'.format(train_home))\n",
    "reader.convert('{0}/train.json'.format(train_home))\n",
    "# vocab = [a for a, b in reader.vocab.items() if b >= 3] # Let's see the word at least 3 times\n",
    "vocab = [a for a, _ in reader.vocab.items()] "
   ]
  },
  {
   "cell_type": "code",
   "execution_count": 2,
   "metadata": {},
   "outputs": [
    {
     "name": "stdout",
     "output_type": "stream",
     "text": [
      "Size of vocabulary: 36655\n"
     ]
    }
   ],
   "source": [
    "print(\"Size of vocabulary: {0}\".format(len(vocab)))"
   ]
  },
  {
   "cell_type": "markdown",
   "metadata": {},
   "source": [
    "This will generate a JSON file with a more familiar format. Here is the first sentence in our BIO format:"
   ]
  },
  {
   "cell_type": "code",
   "execution_count": 3,
   "metadata": {},
   "outputs": [
    {
     "name": "stdout",
     "output_type": "stream",
     "text": [
      "['P00001606T0076', ['Comparison', 'with', 'alkaline', 'phosphatases', 'and', '5-nucleotidase'], ['O', 'O', 'B', 'I', 'O', 'B']]\n"
     ]
    }
   ],
   "source": [
    "import json\n",
    "with open('{0}/train.json'.format(train_home), 'r') as json_file:\n",
    "    training_data = json.load(json_file)\n",
    "    print(training_data[0])"
   ]
  },
  {
   "cell_type": "markdown",
   "metadata": {},
   "source": [
    "This may be easier to read if we zip together the tokens and labels:"
   ]
  },
  {
   "cell_type": "code",
   "execution_count": 4,
   "metadata": {},
   "outputs": [
    {
     "name": "stdout",
     "output_type": "stream",
     "text": [
      "[('Comparison', 'O'), ('with', 'O'), ('alkaline', 'B'), ('phosphatases', 'I'), ('and', 'O'), ('5-nucleotidase', 'B')]\n"
     ]
    }
   ],
   "source": [
    "print(list(zip(training_data[0][1], training_data[0][2])))"
   ]
  },
  {
   "cell_type": "markdown",
   "metadata": {},
   "source": [
    "## Prepare the test data\n",
    "\n",
    "The same _bc2reader_ is used to format the test file."
   ]
  },
  {
   "cell_type": "code",
   "execution_count": 5,
   "metadata": {},
   "outputs": [
    {
     "name": "stdout",
     "output_type": "stream",
     "text": [
      "['BC2GM000008491', ['Phenotypic', 'analysis', 'demonstrates', 'that', 'trio', 'and', 'Abl', 'cooperate', 'in', 'regulating', 'axon', 'outgrowth', 'in', 'the', 'embryonic', 'central', 'nervous', 'system', '(', 'CNS', ')', '.'], ['O', 'O', 'O', 'O', 'B', 'O', 'B', 'O', 'O', 'O', 'O', 'O', 'O', 'O', 'O', 'O', 'O', 'O', 'O', 'O', 'O', 'O']]\n"
     ]
    }
   ],
   "source": [
    "test_home = '/home/ryan/Development/deep-learn-bio-nlp/bc2/bc2GNandGMgold_Subs/sourceforgeDistrib-22-Sept-07/genemention/BC2GM/test'\n",
    "reader = BC2Reader('{0}/test.in'.format(test_home), '{0}/GENE.eval'.format(test_home))\n",
    "reader.convert('{0}/test.json'.format(test_home))\n",
    "\n",
    "with open('{0}/test.json'.format(test_home), 'r') as json_file:\n",
    "    test_data = json.load(json_file)\n",
    "    print(test_data[0])"
   ]
  },
  {
   "cell_type": "markdown",
   "metadata": {},
   "source": [
    "## Setup the model constants"
   ]
  },
  {
   "cell_type": "code",
   "execution_count": 6,
   "metadata": {},
   "outputs": [
    {
     "name": "stderr",
     "output_type": "stream",
     "text": [
      "Using TensorFlow backend.\n"
     ]
    },
    {
     "name": "stdout",
     "output_type": "stream",
     "text": [
      "0: 90.33062421615003\n",
      "1: 4.387337922044577\n",
      "2: 5.282037861805398\n"
     ]
    },
    {
     "data": {
      "text/plain": [
       "<Figure size 640x480 with 1 Axes>"
      ]
     },
     "metadata": {},
     "output_type": "display_data"
    }
   ],
   "source": [
    "import numpy as np\n",
    "from collections import Counter\n",
    "from keras.preprocessing.sequence import pad_sequences\n",
    "from keras.utils import to_categorical\n",
    "from keras.models import Model, Input\n",
    "from keras.layers import LSTM, Embedding, Dense, GRU, ConvLSTM2D\n",
    "from keras.layers import TimeDistributed, Dropout, Bidirectional\n",
    "\n",
    "max_len = 150\n",
    "lstm_n = 256\n",
    "batch_n = 25\n",
    "epoch_n = 5\n",
    "\n",
    "word2idx = {word: idx + 2 for idx, word in enumerate(vocab)}\n",
    "word2idx['_PAD_'] = 0\n",
    "word2idx['_OOV_'] = 1\n",
    "\n",
    "tag2idx = {'O': 0, 'B': 1, 'I': 2}\n",
    "n_tags = len(tag2idx)\n",
    "\n",
    "X = [[m for m in row[1]] for row in training_data]\n",
    "y = [[tag2idx.get(m, 0) for m in row[2]] for row in training_data]\n",
    "\n",
    "# Get an idea about class dist.\n",
    "cnt = Counter()\n",
    "for labels in y:\n",
    "    cnt.update(labels)\n",
    "cnt_total = sum([v for _, v in cnt.items()])\n",
    "for k, v in cnt.items():\n",
    "    print(\"{0}: {1}\".format(k, (100 * v)/cnt_total))\n",
    "        \n",
    "# Get a general idea of the lengths of the sequences:\n",
    "import matplotlib.pyplot as plt\n",
    "plt.style.use(\"ggplot\")\n",
    "plt.hist([len(s) for s in X], bins=50)\n",
    "plt.show()\n",
    "\n",
    "X_test = [[m for m in row[1]] for row in test_data]\n",
    "y_test = [[tag2idx.get(m, 1) for m in row[2]] for row in test_data]\n",
    "\n",
    "X = pad_sequences(maxlen=max_len, sequences=X, padding=\"post\", value='_PAD_', dtype=object)\n",
    "X_test = pad_sequences(maxlen=max_len, sequences=X_test, padding=\"post\", value='_PAD_', dtype=object)\n",
    " \n",
    "y = pad_sequences(maxlen=max_len, sequences=y, padding=\"post\", value=tag2idx['O']) \n",
    "y = [to_categorical(i, num_classes=n_tags) for i in y]\n",
    "y_test = pad_sequences(maxlen=max_len, sequences=y_test, padding=\"post\", value=tag2idx['O']) \n",
    "y_test = [to_categorical(i, num_classes=n_tags) for i in y_test]\n"
   ]
  },
  {
   "cell_type": "markdown",
   "metadata": {},
   "source": [
    "### FastText\n",
    "\n",
    "Although not needed, it is possible to create a weight matrix for an Embedding layer directly from the pre-trained fastText model and vocabulary (as shown below). Rather than take this approach, the cells below simply pre-process any input text sequences using the fastText model. This allows us to better handle OOV terms in any unseen data sets.\n",
    "\n",
    "```python\n",
    "import fasttext\n",
    "embedding_dim = 100\n",
    "\n",
    "fasttext_model = fasttext.load_model('./ftmodel.bin')\n",
    "\n",
    "embedding_matrix = np.zeros((len(word2idx) + 1, embedding_dim))\n",
    "for word, i in word2idx.items():\n",
    "    embedding_vector = fasttext_model[word].tolist()\n",
    "    if embedding_vector is not None:\n",
    "        embedding_matrix[i] = embedding_vector\n",
    "```"
   ]
  },
  {
   "cell_type": "markdown",
   "metadata": {},
   "source": [
    "## Text pre-processing\n",
    "\n"
   ]
  },
  {
   "cell_type": "code",
   "execution_count": 8,
   "metadata": {},
   "outputs": [
    {
     "name": "stderr",
     "output_type": "stream",
     "text": [
      "\n"
     ]
    }
   ],
   "source": [
    "import fasttext\n",
    "embedding_dim = 100\n",
    "\n",
    "fasttext_model = fasttext.load_model('./ftmodel.bin')\n",
    "\n",
    "X = [[fasttext_model[m] for m in sent] for sent in X]\n",
    "X_test = [[fasttext_model[m] for m in sent] for sent in X_test]\n",
    "\n",
    "X = np.array(X)\n",
    "X_test = np.array(X_test)"
   ]
  },
  {
   "cell_type": "markdown",
   "metadata": {},
   "source": [
    "## Creating the model\n",
    "\n",
    "This is the first version of the model using a single Bidirectional LSTM layer. The *optimizer* has been changed to `rmsprop`. Note that since the translation from words to embeddings has already been done, the `Input` shape now has an extra dimension (the embedding size) and the Embedding layer has been removed."
   ]
  },
  {
   "cell_type": "code",
   "execution_count": 9,
   "metadata": {},
   "outputs": [
    {
     "name": "stderr",
     "output_type": "stream",
     "text": [
      "WARNING:tensorflow:From /home/ryan/anaconda3/envs/mlenv/lib/python3.7/site-packages/tensorflow/python/framework/op_def_library.py:263: colocate_with (from tensorflow.python.framework.ops) is deprecated and will be removed in a future version.\n",
      "Instructions for updating:\n",
      "Colocations handled automatically by placer.\n",
      "WARNING:tensorflow:From /home/ryan/anaconda3/envs/mlenv/lib/python3.7/site-packages/keras/backend/tensorflow_backend.py:3445: calling dropout (from tensorflow.python.ops.nn_ops) with keep_prob is deprecated and will be removed in a future version.\n",
      "Instructions for updating:\n",
      "Please use `rate` instead of `keep_prob`. Rate should be set to `rate = 1 - keep_prob`.\n"
     ]
    },
    {
     "name": "stdout",
     "output_type": "stream",
     "text": [
      "_________________________________________________________________\n",
      "Layer (type)                 Output Shape              Param #   \n",
      "=================================================================\n",
      "input_1 (InputLayer)         (None, 150, 100)          0         \n",
      "_________________________________________________________________\n",
      "bidirectional_1 (Bidirection (None, 150, 512)          731136    \n",
      "_________________________________________________________________\n",
      "time_distributed_1 (TimeDist (None, 150, 3)            1539      \n",
      "=================================================================\n",
      "Total params: 732,675\n",
      "Trainable params: 732,675\n",
      "Non-trainable params: 0\n",
      "_________________________________________________________________\n"
     ]
    }
   ],
   "source": [
    "_input = Input(shape=(max_len, 100))\n",
    "\n",
    "model = Bidirectional(LSTM(units=lstm_n, return_sequences=True, dropout=0.2, recurrent_dropout=0.1))(_input)\n",
    "out = TimeDistributed(Dense(n_tags, activation=\"softmax\"))(model)\n",
    "model = Model(_input, out)\n",
    " \n",
    "model.compile(optimizer=\"rmsprop\", loss='categorical_crossentropy', metrics=['categorical_accuracy'])\n",
    "model.summary()"
   ]
  },
  {
   "cell_type": "markdown",
   "metadata": {},
   "source": [
    "### Fit the model"
   ]
  },
  {
   "cell_type": "code",
   "execution_count": 10,
   "metadata": {},
   "outputs": [
    {
     "name": "stderr",
     "output_type": "stream",
     "text": [
      "WARNING:tensorflow:From /home/ryan/anaconda3/envs/mlenv/lib/python3.7/site-packages/tensorflow/python/ops/math_ops.py:3066: to_int32 (from tensorflow.python.ops.math_ops) is deprecated and will be removed in a future version.\n",
      "Instructions for updating:\n",
      "Use tf.cast instead.\n"
     ]
    },
    {
     "name": "stdout",
     "output_type": "stream",
     "text": [
      "Train on 14250 samples, validate on 750 samples\n",
      "Epoch 1/5\n",
      "14250/14250 [==============================] - 115s 8ms/step - loss: 0.0358 - categorical_accuracy: 0.9861 - val_loss: 0.0209 - val_categorical_accuracy: 0.9928\n",
      "Epoch 2/5\n",
      "14250/14250 [==============================] - 114s 8ms/step - loss: 0.0237 - categorical_accuracy: 0.9908 - val_loss: 0.0159 - val_categorical_accuracy: 0.9948\n",
      "Epoch 3/5\n",
      "14250/14250 [==============================] - 114s 8ms/step - loss: 0.0207 - categorical_accuracy: 0.9920 - val_loss: 0.0159 - val_categorical_accuracy: 0.9949\n",
      "Epoch 4/5\n",
      "14250/14250 [==============================] - 114s 8ms/step - loss: 0.0185 - categorical_accuracy: 0.9928 - val_loss: 0.0151 - val_categorical_accuracy: 0.9949\n",
      "Epoch 5/5\n",
      "14250/14250 [==============================] - 114s 8ms/step - loss: 0.0170 - categorical_accuracy: 0.9934 - val_loss: 0.0142 - val_categorical_accuracy: 0.9951\n"
     ]
    }
   ],
   "source": [
    "history = model.fit(X, np.array(y), batch_size=batch_n, epochs=epoch_n, validation_split=0.05, verbose=1)"
   ]
  },
  {
   "cell_type": "markdown",
   "metadata": {},
   "source": [
    "### Plot and review the training history"
   ]
  },
  {
   "cell_type": "code",
   "execution_count": 11,
   "metadata": {
    "scrolled": false
   },
   "outputs": [
    {
     "data": {
      "image/png": "[encoded data removed]",
      "text/plain": [
       "<Figure size 432x288 with 2 Axes>"
      ]
     },
     "metadata": {
      "needs_background": "light"
     },
     "output_type": "display_data"
    }
   ],
   "source": [
    "acc = history.history['categorical_accuracy']\n",
    "val_acc = history.history['val_categorical_accuracy']\n",
    "loss = history.history['loss']\n",
    "val_loss = history.history['val_loss']\n",
    "epochs = range(1, len(loss) + 1)\n",
    "\n",
    "fig, axes = plt.subplots(nrows=1, ncols=2)\n",
    "fig.subplots_adjust(hspace=0.4, wspace=0.4)\n",
    "\n",
    "plt.subplot(1, 2, 1)\n",
    "plt.plot(epochs, acc, 'bo-', label='Training accuracy')\n",
    "plt.plot(epochs, val_acc, 'r+-', label='Validation accuracy')\n",
    "plt.title('Accuracy')\n",
    "plt.xlabel('Epochs')\n",
    "plt.ylabel('Accuracy')\n",
    "plt.legend()\n",
    "\n",
    "plt.subplot(1, 2, 2)\n",
    "plt.plot(epochs, loss, 'bo-', label='Training loss')\n",
    "plt.plot(epochs, val_loss, 'r+-', label='Validation loss')\n",
    "plt.title('Loss')\n",
    "plt.xlabel('Epochs')\n",
    "plt.ylabel('Loss')\n",
    "plt.legend()\n",
    "\n",
    "plt.show()"
   ]
  },
  {
   "cell_type": "markdown",
   "metadata": {},
   "source": [
    "## Test set evaluation"
   ]
  },
  {
   "cell_type": "code",
   "execution_count": 12,
   "metadata": {},
   "outputs": [
    {
     "name": "stdout",
     "output_type": "stream",
     "text": [
      "(5000, 150, 3)\n",
      "(5000, 150)\n"
     ]
    }
   ],
   "source": [
    "pred = model.predict(X_test)\n",
    "print(pred.shape)\n",
    "pred_index = np.argmax(pred, axis=-1)\n",
    "print(pred_index.shape)"
   ]
  },
  {
   "cell_type": "markdown",
   "metadata": {},
   "source": [
    "The following code converts the output of the tagger (where each term is BIO tagged) back to the original BCII format."
   ]
  },
  {
   "cell_type": "code",
   "execution_count": 13,
   "metadata": {},
   "outputs": [],
   "source": [
    "from collections import defaultdict\n",
    "\n",
    "with open('{0}/ryan_eval_2.eval'.format(test_home), 'w') as mention_fh:\n",
    "    for i, row in enumerate(test_data):\n",
    "        sent_id = row[0]\n",
    "        tokens = row[1][:max_len]\n",
    "        running_count = 0\n",
    "        buffer = {'s':None, 'e':None, 'text':[]}\n",
    "        for j, token in enumerate(tokens):\n",
    "            tag = pred_index[i][j]\n",
    "            if tag == 1:\n",
    "                buffer.get('text').append(token)\n",
    "                buffer['s'] = running_count\n",
    "                buffer['e'] = running_count + len(token) - 1\n",
    "            elif tag == 2:\n",
    "                buffer.get('text').append(token)\n",
    "                buffer['e'] = running_count + len(token) - 1\n",
    "            elif tag == 0 and buffer.get('s'):\n",
    "                text = ' '.join(buffer.get('text'))\n",
    "                mention_fh.write('{0}|{1} {2}|{3}\\n'.format(sent_id, buffer.get('s'), buffer.get('e'), text))\n",
    "                buffer = {'s':None, 'e':None, 'text':[]}\n",
    "            running_count += len(token)"
   ]
  },
  {
   "cell_type": "markdown",
   "metadata": {},
   "source": [
    "Using the BCII evaluation script:\n",
    "\n",
    "    TP: 4744\n",
    "    FP: 1197\n",
    "    FN: 1587\n",
    "    Precision: 0.798518767884195 Recall: 0.749328700047386 F: 0.773142112125163\n",
    "\n",
    "This F score is a big improvement (5 pts), with a significant increase in recall. Note that the model is trained an extra epoch even though the validation loss seems to bottom out. This seems to improve the model recall without significant reduction in precision -- My guess is that this is due to the large class imbalance.\n",
    "\n",
    "This score places this model above the bottom 5 of 19 participants in the 2008 competition. All the more impressive since _only_ the training data was used (what the task describes as a _closed_ system), not using any outside BioNLP resources. \n"
   ]
  }
 ],
 "metadata": {
  "kernelspec": {
   "display_name": "Python 3",
   "language": "python",
   "name": "python3"
  },
  "language_info": {
   "codemirror_mode": {
    "name": "ipython",
    "version": 3
   },
   "file_extension": ".py",
   "mimetype": "text/x-python",
   "name": "python",
   "nbconvert_exporter": "python",
   "pygments_lexer": "ipython3",
   "version": "3.7.3"
  },
  "pycharm": {
   "stem_cell": {
    "cell_type": "raw",
    "metadata": {
     "collapsed": false
    },
    "source": []
   }
  }
 },
 "nbformat": 4,
 "nbformat_minor": 2
}
