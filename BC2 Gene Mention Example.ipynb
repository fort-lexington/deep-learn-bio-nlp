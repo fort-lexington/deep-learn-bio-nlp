{
 "cells": [
  {
   "cell_type": "markdown",
   "metadata": {},
   "source": [
    "# BioCreative II Gene Mention (GM) Task\n",
    "\n",
    "For more information: https://biocreative.bioinformatics.udel.edu/tasks/biocreative-ii/task-1a-gene-mention-tagging/\n",
    "\n",
    "## Training Data\n",
    "\n",
    "The training data is described in the corpus README.GM file, but I'll describe it here as well. Training data consists of a sentences file `train.in` and a label file `GENE.eval`. The eval file lists the offsets of any gene mentions (there may be none for any sentence). It is easiest to understand using an example using the first sentence from `train.in`:\n",
    "\n",
    "```\n",
    "P00001606T0076 Comparison with alkaline phosphatases and 5-nucleotidase\n",
    "```\n",
    "Each line contains a single sentence, starting with a unique sentence identifier, followed by the text. This particular sample contains two (2) gene mentions, listed on two lines in the `GENE.eval` file:\n",
    "\n",
    "```\n",
    "P00001606T0076|14 33|alkaline phosphatases\n",
    "P00001606T0076|37 50|5-nucleotidase\n",
    "```\n",
    "The first field (delimited by the bar symbols) is the matching sentence ID. The second field contains the offset of the first and last characters in the GM, _not counting space characters_. So, looking at _alkaline phosphatases_, the first letter `a` is at offset 14 keeping in mind that the first character in the sentence is offset 0. If you are not careful, you may think the offset of `a` is 16, but remember that spaces are not counted. Counting in a similar way, the last `s` in _phosphatases_ is at offset 33.\n",
    "\n",
    "## Prepare the training data\n",
    "\n",
    "This format is not very convenient for training our ML model. One method used to train NER systems is to label each sentence token with either 'B','I', or 'O' where 'B' marks the beginning token in an entity, 'I' marks subsequent tokens in a multi-token entity (*inside*), and 'O' is for tokens *outside* the entity. For this example, we will use a Keras model to perform _sequence tagging_, where the tags are 'B', 'I', and 'O'. This is very similar to how one would perform full NER or POS tagging.\n",
    "\n",
    "The module *bc2reader.py* is provided to help convert these two files to something more usable. The first argument to the `BC2Reader` contructor is the sentence file. The second is the gene mention file.\n"
   ]
  },
  {
   "cell_type": "code",
   "execution_count": 1,
   "metadata": {
    "scrolled": true
   },
   "outputs": [],
   "source": [
    "from bc2reader import BC2Reader\n",
    "import os\n",
    "\n",
    "train_home = '/home/ryan/Development/deep-learn-bio-nlp/bc2/bc2geneMention/train'\n",
    "reader = BC2Reader('{0}/train.in'.format(train_home), '{0}/GENE.eval'.format(train_home))\n",
    "reader.convert('{0}/train.json'.format(train_home))\n",
    "# vocab = [a for a, b in reader.vocab.items() if b >= 3] # Let's see the word at least 3 times\n",
    "vocab = [a for a, _ in reader.vocab.items()] "
   ]
  },
  {
   "cell_type": "code",
   "execution_count": 2,
   "metadata": {},
   "outputs": [
    {
     "name": "stdout",
     "output_type": "stream",
     "text": [
      "Size of vocabulary: 36655\n"
     ]
    }
   ],
   "source": [
    "print(\"Size of vocabulary: {0}\".format(len(vocab)))"
   ]
  },
  {
   "cell_type": "markdown",
   "metadata": {},
   "source": [
    "This will generate a JSON file with a more familiar format. Here is the first sentence in our BIO format:"
   ]
  },
  {
   "cell_type": "code",
   "execution_count": 3,
   "metadata": {},
   "outputs": [
    {
     "name": "stdout",
     "output_type": "stream",
     "text": [
      "['P00001606T0076', ['Comparison', 'with', 'alkaline', 'phosphatases', 'and', '5-nucleotidase'], ['O', 'O', 'B', 'I', 'O', 'B']]\n"
     ]
    }
   ],
   "source": [
    "import json\n",
    "with open('{0}/train.json'.format(train_home), 'r') as json_file:\n",
    "    training_data = json.load(json_file)\n",
    "    print(training_data[0])"
   ]
  },
  {
   "cell_type": "markdown",
   "metadata": {},
   "source": [
    "This may be easier to read if we zip together the tokens and labels:"
   ]
  },
  {
   "cell_type": "code",
   "execution_count": 4,
   "metadata": {},
   "outputs": [
    {
     "name": "stdout",
     "output_type": "stream",
     "text": [
      "[('Comparison', 'O'), ('with', 'O'), ('alkaline', 'B'), ('phosphatases', 'I'), ('and', 'O'), ('5-nucleotidase', 'B')]\n"
     ]
    }
   ],
   "source": [
    "print(list(zip(training_data[0][1], training_data[0][2])))"
   ]
  },
  {
   "cell_type": "markdown",
   "metadata": {},
   "source": [
    "## Prepare the test data\n",
    "\n",
    "The same _bc2reader_ is used to format the test file."
   ]
  },
  {
   "cell_type": "code",
   "execution_count": 5,
   "metadata": {},
   "outputs": [
    {
     "name": "stdout",
     "output_type": "stream",
     "text": [
      "['BC2GM000008491', ['Phenotypic', 'analysis', 'demonstrates', 'that', 'trio', 'and', 'Abl', 'cooperate', 'in', 'regulating', 'axon', 'outgrowth', 'in', 'the', 'embryonic', 'central', 'nervous', 'system', '(', 'CNS', ')', '.'], ['O', 'O', 'O', 'O', 'B', 'O', 'B', 'O', 'O', 'O', 'O', 'O', 'O', 'O', 'O', 'O', 'O', 'O', 'O', 'O', 'O', 'O']]\n"
     ]
    }
   ],
   "source": [
    "test_home = '/home/ryan/Development/deep-learn-bio-nlp/bc2/bc2GNandGMgold_Subs/sourceforgeDistrib-22-Sept-07/genemention/BC2GM/test'\n",
    "reader = BC2Reader('{0}/test.in'.format(test_home), '{0}/GENE.eval'.format(test_home))\n",
    "reader.convert('{0}/test.json'.format(test_home))\n",
    "\n",
    "with open('{0}/test.json'.format(test_home), 'r') as json_file:\n",
    "    test_data = json.load(json_file)\n",
    "    print(test_data[0])"
   ]
  },
  {
   "cell_type": "markdown",
   "metadata": {},
   "source": [
    "## Setup the model constants"
   ]
  },
  {
   "cell_type": "code",
   "execution_count": 29,
   "metadata": {},
   "outputs": [
    {
     "data": {
      "image/png": "[encoded data removed]",
      "text/plain": [
       "<Figure size 432x288 with 1 Axes>"
      ]
     },
     "metadata": {},
     "output_type": "display_data"
    }
   ],
   "source": [
    "import numpy as np\n",
    "from keras.preprocessing.sequence import pad_sequences\n",
    "from keras.utils import to_categorical\n",
    "from keras.models import Model, Input\n",
    "from keras.layers import LSTM, Embedding, Dense, GRU\n",
    "from keras.layers import TimeDistributed, Dropout, Bidirectional\n",
    "\n",
    "max_len = 150\n",
    "lstm_n = 256\n",
    "batch_n = 25\n",
    "epoch_n = 3\n",
    "\n",
    "word2idx = {word: idx + 2 for idx, word in enumerate(vocab)}\n",
    "word2idx['_PAD_'] = 0\n",
    "word2idx['_OOV_'] = 1\n",
    "tag2idx = {'O': 0, 'B': 1, 'I': 2}\n",
    "n_tags = len(tag2idx)\n",
    "\n",
    "X = [[word2idx.get(m, 1) for m in row[1]] for row in training_data]\n",
    "y = [[tag2idx.get(m, 0) for m in row[2]] for row in training_data]\n",
    "\n",
    "# Get a general idea of the lengths of the sequences:\n",
    "import matplotlib.pyplot as plt\n",
    "plt.style.use(\"ggplot\")\n",
    "plt.hist([len(s) for s in X], bins=50)\n",
    "plt.show()\n",
    "\n",
    "X_test = [[word2idx.get(m, 1) for m in row[1]] for row in test_data]\n",
    "y_test = [[tag2idx.get(m, 1) for m in row[2]] for row in test_data]\n",
    "\n",
    "X = pad_sequences(maxlen=max_len, sequences=X, padding=\"post\", value=word2idx['_PAD_'])\n",
    "X_test = pad_sequences(maxlen=max_len, sequences=X_test, padding=\"post\", value=word2idx['_PAD_'])\n",
    " \n",
    "y = pad_sequences(maxlen=max_len, sequences=y, padding=\"post\", value=tag2idx['O']) \n",
    "y = [to_categorical(i, num_classes=n_tags) for i in y]\n",
    "y_test = pad_sequences(maxlen=max_len, sequences=y_test, padding=\"post\", value=tag2idx['O']) \n",
    "y_test = [to_categorical(i, num_classes=n_tags) for i in y_test]\n",
    "\n",
    "\n"
   ]
  },
  {
   "cell_type": "markdown",
   "metadata": {},
   "source": [
    "## Prepare the Embeddings (GloVe)\n",
    "\n",
    "See: https://blog.keras.io/using-pre-trained-word-embeddings-in-a-keras-model.html\n",
    "\n",
    "The embeddings loaded below were learned from PMC Open Access dataset (non-commercial). This collection contains 430,944 journal articles in XML (or text) format. The XML alone is over 50GB uncompressed, so only download if you have plenty of drive space and time. Tables were filtered out since they tended to contain numeric data and not narrative text. The final cleaned text is 1,784,578,876 tokens, and 958,634 lines of text!\n",
    "\n",
    "This first attempt at using pre-trained embeddings from biomedical journal articles didn't improve the accuracy over learning embeddings directly from the training data, but it is useful to demonstrate how these can be added to the model. Run the code below to load the pre-trained PMC embeddings. You will need to add `weights=[embedding_matrix]` and `trainable=False` as arguments to the model's Embedding layer."
   ]
  },
  {
   "cell_type": "code",
   "execution_count": 30,
   "metadata": {},
   "outputs": [
    {
     "name": "stdout",
     "output_type": "stream",
     "text": [
      "Found 100001 word vectors.\n"
     ]
    }
   ],
   "source": [
    "embeddings_dir = r'/home/ryan/Development/deep-learn-bio-nlp/'\n",
    "embedding_dim = 50\n",
    "\n",
    "embeddings_index = {}\n",
    "with open(os.path.join(embeddings_dir, 'vectors_100K.txt')) as f:\n",
    "    for line in f:\n",
    "        values = line.split()\n",
    "        word = values[0]\n",
    "        coefs = np.asarray(values[1:], dtype='float32')\n",
    "        embeddings_index[word] = coefs\n",
    "\n",
    "print('Found %s word vectors.' % len(embeddings_index))\n",
    "\n",
    "embedding_matrix = np.zeros((len(word2idx) + 1, embedding_dim))\n",
    "for word, i in word2idx.items():\n",
    "    embedding_vector = embeddings_index.get(word)\n",
    "    if embedding_vector is not None:\n",
    "        embedding_matrix[i] = embedding_vector"
   ]
  },
  {
   "cell_type": "markdown",
   "metadata": {},
   "source": [
    "## Creating the model\n",
    "\n",
    "This is the first version of the model using a single Bidirectional LSTM layer. "
   ]
  },
  {
   "cell_type": "code",
   "execution_count": 31,
   "metadata": {},
   "outputs": [
    {
     "name": "stdout",
     "output_type": "stream",
     "text": [
      "_________________________________________________________________\n",
      "Layer (type)                 Output Shape              Param #   \n",
      "=================================================================\n",
      "input_4 (InputLayer)         (None, 150)               0         \n",
      "_________________________________________________________________\n",
      "embedding_4 (Embedding)      (None, 150, 256)          9384448   \n",
      "_________________________________________________________________\n",
      "dropout_4 (Dropout)          (None, 150, 256)          0         \n",
      "_________________________________________________________________\n",
      "bidirectional_4 (Bidirection (None, 150, 512)          787968    \n",
      "_________________________________________________________________\n",
      "time_distributed_4 (TimeDist (None, 150, 3)            1539      \n",
      "=================================================================\n",
      "Total params: 10,173,955\n",
      "Trainable params: 10,173,955\n",
      "Non-trainable params: 0\n",
      "_________________________________________________________________\n"
     ]
    }
   ],
   "source": [
    "# Borrowed heavily from \n",
    "# https://appliedmachinelearning.blog/2019/04/01/training-deep-learning-based-named-entity-recognition-from-scratch-disease-extraction-hackathon/\n",
    "# as a general outline for the model...\n",
    "\n",
    "from keras.layers.merge import add\n",
    "\n",
    "_input = Input(shape=(max_len,))\n",
    "model = Embedding(input_dim=len(word2idx) + 1, \n",
    "                  output_dim=embedding_dim, \n",
    "                  # weights=[embedding_matrix], \n",
    "                  input_length=max_len, \n",
    "                  # trainable=False, \n",
    "                  mask_zero=True)(_input)\n",
    "model = Dropout(0.2)(model)\n",
    "model = Bidirectional(GRU(units=lstm_n, return_sequences=True, recurrent_dropout=0.1))(model)\n",
    "out = TimeDistributed(Dense(n_tags, activation=\"softmax\"))(model)\n",
    "model = Model(_input, out)\n",
    " \n",
    "model.compile(optimizer=\"adam\", loss='categorical_crossentropy', metrics=['categorical_accuracy'])\n",
    "model.summary()\n",
    "\n"
   ]
  },
  {
   "cell_type": "markdown",
   "metadata": {},
   "source": [
    "### Fit the model"
   ]
  },
  {
   "cell_type": "code",
   "execution_count": 32,
   "metadata": {},
   "outputs": [
    {
     "name": "stdout",
     "output_type": "stream",
     "text": [
      "Train on 14250 samples, validate on 750 samples\n",
      "Epoch 1/3\n",
      "14250/14250 [==============================] - 115s 8ms/step - loss: 0.1878 - categorical_accuracy: 0.9359 - val_loss: 0.0984 - val_categorical_accuracy: 0.9660\n",
      "Epoch 2/3\n",
      "14250/14250 [==============================] - 114s 8ms/step - loss: 0.0752 - categorical_accuracy: 0.9725 - val_loss: 0.0961 - val_categorical_accuracy: 0.9663\n",
      "Epoch 3/3\n",
      "14250/14250 [==============================] - 112s 8ms/step - loss: 0.0422 - categorical_accuracy: 0.9847 - val_loss: 0.1099 - val_categorical_accuracy: 0.9652\n"
     ]
    }
   ],
   "source": [
    "history = model.fit(X, np.array(y), batch_size=batch_n, epochs=epoch_n, validation_split=0.05, verbose=1)"
   ]
  },
  {
   "cell_type": "markdown",
   "metadata": {},
   "source": [
    "### Plot and review the training history"
   ]
  },
  {
   "cell_type": "code",
   "execution_count": 33,
   "metadata": {
    "scrolled": true
   },
   "outputs": [
    {
     "data": {
      "image/png": "[encoded data removed]",
      "text/plain": [
       "<Figure size 432x288 with 2 Axes>"
      ]
     },
     "metadata": {},
     "output_type": "display_data"
    }
   ],
   "source": [
    "acc = history.history['categorical_accuracy']\n",
    "val_acc = history.history['val_categorical_accuracy']\n",
    "loss = history.history['loss']\n",
    "val_loss = history.history['val_loss']\n",
    "epochs = range(1, len(loss) + 1)\n",
    "\n",
    "fig, axes = plt.subplots(nrows=1, ncols=2)\n",
    "fig.subplots_adjust(hspace=0.4, wspace=0.4)\n",
    "\n",
    "plt.subplot(1, 2, 1)\n",
    "plt.plot(epochs, acc, 'bo-', label='Training accuracy')\n",
    "plt.plot(epochs, val_acc, 'r+-', label='Validation accuracy')\n",
    "plt.title('Accuracy')\n",
    "plt.xlabel('Epochs')\n",
    "plt.ylabel('Accuracy')\n",
    "plt.legend()\n",
    "\n",
    "plt.subplot(1, 2, 2)\n",
    "plt.plot(epochs, loss, 'bo-', label='Training loss')\n",
    "plt.plot(epochs, val_loss, 'r+-', label='Validation loss')\n",
    "plt.title('Loss')\n",
    "plt.xlabel('Epochs')\n",
    "plt.ylabel('Accuracy')\n",
    "plt.legend()\n",
    "\n",
    "plt.show()"
   ]
  },
  {
   "cell_type": "markdown",
   "metadata": {},
   "source": [
    "## Test set evaluation"
   ]
  },
  {
   "cell_type": "code",
   "execution_count": 34,
   "metadata": {},
   "outputs": [
    {
     "name": "stdout",
     "output_type": "stream",
     "text": [
      "(5000, 150, 3)\n"
     ]
    }
   ],
   "source": [
    "pred = model.predict(X_test)\n",
    "print(pred.shape)"
   ]
  },
  {
   "cell_type": "code",
   "execution_count": 35,
   "metadata": {},
   "outputs": [
    {
     "name": "stdout",
     "output_type": "stream",
     "text": [
      "(5000, 150)\n"
     ]
    }
   ],
   "source": [
    "pred_index = np.argmax(pred, axis=-1)\n",
    "print(pred_index.shape)"
   ]
  },
  {
   "cell_type": "markdown",
   "metadata": {},
   "source": [
    "The following code converts the output of the tagger (where each term is BIO tagged) back to the original BCII format."
   ]
  },
  {
   "cell_type": "code",
   "execution_count": 36,
   "metadata": {},
   "outputs": [],
   "source": [
    "from collections import defaultdict\n",
    "\n",
    "with open('{0}/ryan_eval.eval'.format(test_home), 'w') as mention_fh:\n",
    "    for i, row in enumerate(test_data):\n",
    "        sent_id = row[0]\n",
    "        tokens = row[1][:max_len]\n",
    "        running_count = 0\n",
    "        buffer = {'s':None, 'e':None, 'text':[]}\n",
    "        for j, token in enumerate(tokens):\n",
    "            tag = pred_index[i][j]\n",
    "            if tag == 1:\n",
    "                buffer.get('text').append(token)\n",
    "                buffer['s'] = running_count\n",
    "                buffer['e'] = running_count + len(token) - 1\n",
    "            elif tag == 2:\n",
    "                buffer.get('text').append(token)\n",
    "                buffer['e'] = running_count + len(token) - 1\n",
    "            elif tag == 0 and buffer.get('s'):\n",
    "                text = ' '.join(buffer.get('text'))\n",
    "                mention_fh.write('{0}|{1} {2}|{3}\\n'.format(sent_id, buffer.get('s'), buffer.get('e'), text))\n",
    "                buffer = {'s':None, 'e':None, 'text':[]}\n",
    "            running_count += len(token)"
   ]
  },
  {
   "cell_type": "markdown",
   "metadata": {},
   "source": [
    "Using the BCII evaluation script, initial output on the test data is mixed (note that your output may vary). The precision is in the range of the shared task participants, but the recall leaves something to be desired -- especially the high number of false negatives (see https://www.ncbi.nlm.nih.gov/pmc/articles/PMC2559986/). \n",
    "\n",
    "    TP: 4142\n",
    "    FP: 1008\n",
    "    FN: 2189\n",
    "    Precision: 0.804271844660194 Recall: 0.654241036171221 F: 0.721539935545684\n",
    "\n",
    "This F score isn't great, although it does place this system above the bottom 3 of 19 participants in the 2008 competition. Note that _only_ the training data was used (what the task describes as a _closed_ system), not using any outside resources. This is a good starting point."
   ]
  }
 ],
 "metadata": {
  "kernelspec": {
   "display_name": "Python 3",
   "language": "python",
   "name": "python3"
  },
  "language_info": {
   "codemirror_mode": {
    "name": "ipython",
    "version": 3
   },
   "file_extension": ".py",
   "mimetype": "text/x-python",
   "name": "python",
   "nbconvert_exporter": "python",
   "pygments_lexer": "ipython3",
   "version": "3.7.3"
  }
 },
 "nbformat": 4,
 "nbformat_minor": 2
}
